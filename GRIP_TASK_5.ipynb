{
 "cells": [
  {
   "cell_type": "markdown",
   "metadata": {},
   "source": [
    "# Abhi Devgirikar\n",
    "# Stock Market Prediction using Numerical and Textual Analysis\n",
    "\n",
    "The task is to create a hybrid model for stock price/performance prediction using numerical analysis of historical stock prices and sentimental analysis of news headlines.\n",
    "\n",
    "Download historical stock prices from https://finance.yahoo.com/\n",
    "\n",
    "Download textual (news) data from https://bit.ly/36fFPI6\n"
   ]
  },
  {
   "cell_type": "markdown",
   "metadata": {},
   "source": [
    "### Importing Required Packages"
   ]
  },
  {
   "cell_type": "code",
   "execution_count": 2,
   "metadata": {},
   "outputs": [],
   "source": [
    "import numpy as np\n",
    "import pandas as pd\n",
    "import matplotlib.pyplot as plt\n",
    "import seaborn as sns\n",
    "import warnings\n",
    "warnings.filterwarnings(\"ignore\")\n",
    "import scipy.stats as stats"
   ]
  },
  {
   "cell_type": "markdown",
   "metadata": {},
   "source": [
    "#### Loading Textual (News) data"
   ]
  },
  {
   "cell_type": "code",
   "execution_count": 4,
   "metadata": {},
   "outputs": [],
   "source": [
    "ndf = pd.read_csv(\"india-news-headlines.csv\")"
   ]
  },
  {
   "cell_type": "code",
   "execution_count": 5,
   "metadata": {},
   "outputs": [
    {
     "data": {
      "text/html": [
       "<div>\n",
       "<style scoped>\n",
       "    .dataframe tbody tr th:only-of-type {\n",
       "        vertical-align: middle;\n",
       "    }\n",
       "\n",
       "    .dataframe tbody tr th {\n",
       "        vertical-align: top;\n",
       "    }\n",
       "\n",
       "    .dataframe thead th {\n",
       "        text-align: right;\n",
       "    }\n",
       "</style>\n",
       "<table border=\"1\" class=\"dataframe\">\n",
       "  <thead>\n",
       "    <tr style=\"text-align: right;\">\n",
       "      <th></th>\n",
       "      <th>publish_date</th>\n",
       "      <th>headline_category</th>\n",
       "      <th>headline_text</th>\n",
       "    </tr>\n",
       "  </thead>\n",
       "  <tbody>\n",
       "    <tr>\n",
       "      <td>0</td>\n",
       "      <td>20010101</td>\n",
       "      <td>sports.wwe</td>\n",
       "      <td>win over cena satisfying but defeating underta...</td>\n",
       "    </tr>\n",
       "    <tr>\n",
       "      <td>1</td>\n",
       "      <td>20010102</td>\n",
       "      <td>unknown</td>\n",
       "      <td>Status quo will not be disturbed at Ayodhya; s...</td>\n",
       "    </tr>\n",
       "    <tr>\n",
       "      <td>2</td>\n",
       "      <td>20010102</td>\n",
       "      <td>unknown</td>\n",
       "      <td>Fissures in Hurriyat over Pak visit</td>\n",
       "    </tr>\n",
       "    <tr>\n",
       "      <td>3</td>\n",
       "      <td>20010102</td>\n",
       "      <td>unknown</td>\n",
       "      <td>America's unwanted heading for India?</td>\n",
       "    </tr>\n",
       "    <tr>\n",
       "      <td>4</td>\n",
       "      <td>20010102</td>\n",
       "      <td>unknown</td>\n",
       "      <td>For bigwigs; it is destination Goa</td>\n",
       "    </tr>\n",
       "  </tbody>\n",
       "</table>\n",
       "</div>"
      ],
      "text/plain": [
       "   publish_date headline_category  \\\n",
       "0      20010101        sports.wwe   \n",
       "1      20010102           unknown   \n",
       "2      20010102           unknown   \n",
       "3      20010102           unknown   \n",
       "4      20010102           unknown   \n",
       "\n",
       "                                       headline_text  \n",
       "0  win over cena satisfying but defeating underta...  \n",
       "1  Status quo will not be disturbed at Ayodhya; s...  \n",
       "2                Fissures in Hurriyat over Pak visit  \n",
       "3              America's unwanted heading for India?  \n",
       "4                 For bigwigs; it is destination Goa  "
      ]
     },
     "execution_count": 5,
     "metadata": {},
     "output_type": "execute_result"
    }
   ],
   "source": [
    "ndf.head()"
   ]
  },
  {
   "cell_type": "code",
   "execution_count": 6,
   "metadata": {},
   "outputs": [
    {
     "name": "stdout",
     "output_type": "stream",
     "text": [
      "<class 'pandas.core.frame.DataFrame'>\n",
      "RangeIndex: 3297172 entries, 0 to 3297171\n",
      "Data columns (total 3 columns):\n",
      "publish_date         int64\n",
      "headline_category    object\n",
      "headline_text        object\n",
      "dtypes: int64(1), object(2)\n",
      "memory usage: 75.5+ MB\n"
     ]
    }
   ],
   "source": [
    "ndf.info()"
   ]
  },
  {
   "cell_type": "markdown",
   "metadata": {},
   "source": [
    "# Data Pre-processing "
   ]
  },
  {
   "cell_type": "code",
   "execution_count": 7,
   "metadata": {},
   "outputs": [],
   "source": [
    "ndf['published_date'] = np.array([str(str(str(x)[:4]) + '/' + str(str(x)[4:6]) + '/' + str(str(x)[6:])) for x in ndf['publish_date']])"
   ]
  },
  {
   "cell_type": "code",
   "execution_count": 8,
   "metadata": {},
   "outputs": [
    {
     "data": {
      "text/html": [
       "<div>\n",
       "<style scoped>\n",
       "    .dataframe tbody tr th:only-of-type {\n",
       "        vertical-align: middle;\n",
       "    }\n",
       "\n",
       "    .dataframe tbody tr th {\n",
       "        vertical-align: top;\n",
       "    }\n",
       "\n",
       "    .dataframe thead th {\n",
       "        text-align: right;\n",
       "    }\n",
       "</style>\n",
       "<table border=\"1\" class=\"dataframe\">\n",
       "  <thead>\n",
       "    <tr style=\"text-align: right;\">\n",
       "      <th></th>\n",
       "      <th>publish_date</th>\n",
       "      <th>headline_category</th>\n",
       "      <th>headline_text</th>\n",
       "      <th>published_date</th>\n",
       "    </tr>\n",
       "  </thead>\n",
       "  <tbody>\n",
       "    <tr>\n",
       "      <td>0</td>\n",
       "      <td>20010101</td>\n",
       "      <td>sports.wwe</td>\n",
       "      <td>win over cena satisfying but defeating underta...</td>\n",
       "      <td>2001/01/01</td>\n",
       "    </tr>\n",
       "    <tr>\n",
       "      <td>1</td>\n",
       "      <td>20010102</td>\n",
       "      <td>unknown</td>\n",
       "      <td>Status quo will not be disturbed at Ayodhya; s...</td>\n",
       "      <td>2001/01/02</td>\n",
       "    </tr>\n",
       "    <tr>\n",
       "      <td>2</td>\n",
       "      <td>20010102</td>\n",
       "      <td>unknown</td>\n",
       "      <td>Fissures in Hurriyat over Pak visit</td>\n",
       "      <td>2001/01/02</td>\n",
       "    </tr>\n",
       "    <tr>\n",
       "      <td>3</td>\n",
       "      <td>20010102</td>\n",
       "      <td>unknown</td>\n",
       "      <td>America's unwanted heading for India?</td>\n",
       "      <td>2001/01/02</td>\n",
       "    </tr>\n",
       "    <tr>\n",
       "      <td>4</td>\n",
       "      <td>20010102</td>\n",
       "      <td>unknown</td>\n",
       "      <td>For bigwigs; it is destination Goa</td>\n",
       "      <td>2001/01/02</td>\n",
       "    </tr>\n",
       "  </tbody>\n",
       "</table>\n",
       "</div>"
      ],
      "text/plain": [
       "   publish_date headline_category  \\\n",
       "0      20010101        sports.wwe   \n",
       "1      20010102           unknown   \n",
       "2      20010102           unknown   \n",
       "3      20010102           unknown   \n",
       "4      20010102           unknown   \n",
       "\n",
       "                                       headline_text published_date  \n",
       "0  win over cena satisfying but defeating underta...     2001/01/01  \n",
       "1  Status quo will not be disturbed at Ayodhya; s...     2001/01/02  \n",
       "2                Fissures in Hurriyat over Pak visit     2001/01/02  \n",
       "3              America's unwanted heading for India?     2001/01/02  \n",
       "4                 For bigwigs; it is destination Goa     2001/01/02  "
      ]
     },
     "execution_count": 8,
     "metadata": {},
     "output_type": "execute_result"
    }
   ],
   "source": [
    "ndf.head()"
   ]
  },
  {
   "cell_type": "code",
   "execution_count": 9,
   "metadata": {},
   "outputs": [],
   "source": [
    "del ndf[\"publish_date\"]"
   ]
  },
  {
   "cell_type": "code",
   "execution_count": 10,
   "metadata": {},
   "outputs": [
    {
     "data": {
      "text/html": [
       "<div>\n",
       "<style scoped>\n",
       "    .dataframe tbody tr th:only-of-type {\n",
       "        vertical-align: middle;\n",
       "    }\n",
       "\n",
       "    .dataframe tbody tr th {\n",
       "        vertical-align: top;\n",
       "    }\n",
       "\n",
       "    .dataframe thead th {\n",
       "        text-align: right;\n",
       "    }\n",
       "</style>\n",
       "<table border=\"1\" class=\"dataframe\">\n",
       "  <thead>\n",
       "    <tr style=\"text-align: right;\">\n",
       "      <th></th>\n",
       "      <th>headline_category</th>\n",
       "      <th>headline_text</th>\n",
       "      <th>published_date</th>\n",
       "    </tr>\n",
       "  </thead>\n",
       "  <tbody>\n",
       "    <tr>\n",
       "      <td>0</td>\n",
       "      <td>sports.wwe</td>\n",
       "      <td>win over cena satisfying but defeating underta...</td>\n",
       "      <td>2001/01/01</td>\n",
       "    </tr>\n",
       "    <tr>\n",
       "      <td>1</td>\n",
       "      <td>unknown</td>\n",
       "      <td>Status quo will not be disturbed at Ayodhya; s...</td>\n",
       "      <td>2001/01/02</td>\n",
       "    </tr>\n",
       "    <tr>\n",
       "      <td>2</td>\n",
       "      <td>unknown</td>\n",
       "      <td>Fissures in Hurriyat over Pak visit</td>\n",
       "      <td>2001/01/02</td>\n",
       "    </tr>\n",
       "    <tr>\n",
       "      <td>3</td>\n",
       "      <td>unknown</td>\n",
       "      <td>America's unwanted heading for India?</td>\n",
       "      <td>2001/01/02</td>\n",
       "    </tr>\n",
       "    <tr>\n",
       "      <td>4</td>\n",
       "      <td>unknown</td>\n",
       "      <td>For bigwigs; it is destination Goa</td>\n",
       "      <td>2001/01/02</td>\n",
       "    </tr>\n",
       "  </tbody>\n",
       "</table>\n",
       "</div>"
      ],
      "text/plain": [
       "  headline_category                                      headline_text  \\\n",
       "0        sports.wwe  win over cena satisfying but defeating underta...   \n",
       "1           unknown  Status quo will not be disturbed at Ayodhya; s...   \n",
       "2           unknown                Fissures in Hurriyat over Pak visit   \n",
       "3           unknown              America's unwanted heading for India?   \n",
       "4           unknown                 For bigwigs; it is destination Goa   \n",
       "\n",
       "  published_date  \n",
       "0     2001/01/01  \n",
       "1     2001/01/02  \n",
       "2     2001/01/02  \n",
       "3     2001/01/02  \n",
       "4     2001/01/02  "
      ]
     },
     "execution_count": 10,
     "metadata": {},
     "output_type": "execute_result"
    }
   ],
   "source": [
    "ndf.head()"
   ]
  },
  {
   "cell_type": "code",
   "execution_count": 11,
   "metadata": {},
   "outputs": [],
   "source": [
    "ndf['published_date'] = pd.to_datetime(ndf['published_date'])"
   ]
  },
  {
   "cell_type": "code",
   "execution_count": 12,
   "metadata": {},
   "outputs": [
    {
     "name": "stdout",
     "output_type": "stream",
     "text": [
      "<class 'pandas.core.frame.DataFrame'>\n",
      "RangeIndex: 3297172 entries, 0 to 3297171\n",
      "Data columns (total 3 columns):\n",
      "headline_category    object\n",
      "headline_text        object\n",
      "published_date       datetime64[ns]\n",
      "dtypes: datetime64[ns](1), object(2)\n",
      "memory usage: 75.5+ MB\n"
     ]
    }
   ],
   "source": [
    "ndf.info()"
   ]
  },
  {
   "cell_type": "code",
   "execution_count": 13,
   "metadata": {},
   "outputs": [],
   "source": [
    "ndf = ndf[['published_date', 'headline_text']]"
   ]
  },
  {
   "cell_type": "code",
   "execution_count": 14,
   "metadata": {},
   "outputs": [],
   "source": [
    "ndf.columns = ['published_date', 'headline']"
   ]
  },
  {
   "cell_type": "code",
   "execution_count": 15,
   "metadata": {
    "scrolled": true
   },
   "outputs": [
    {
     "data": {
      "text/html": [
       "<div>\n",
       "<style scoped>\n",
       "    .dataframe tbody tr th:only-of-type {\n",
       "        vertical-align: middle;\n",
       "    }\n",
       "\n",
       "    .dataframe tbody tr th {\n",
       "        vertical-align: top;\n",
       "    }\n",
       "\n",
       "    .dataframe thead th {\n",
       "        text-align: right;\n",
       "    }\n",
       "</style>\n",
       "<table border=\"1\" class=\"dataframe\">\n",
       "  <thead>\n",
       "    <tr style=\"text-align: right;\">\n",
       "      <th></th>\n",
       "      <th>published_date</th>\n",
       "      <th>headline</th>\n",
       "    </tr>\n",
       "  </thead>\n",
       "  <tbody>\n",
       "    <tr>\n",
       "      <td>0</td>\n",
       "      <td>2001-01-01</td>\n",
       "      <td>win over cena satisfying but defeating underta...</td>\n",
       "    </tr>\n",
       "    <tr>\n",
       "      <td>1</td>\n",
       "      <td>2001-01-02</td>\n",
       "      <td>Status quo will not be disturbed at Ayodhya; s...</td>\n",
       "    </tr>\n",
       "    <tr>\n",
       "      <td>2</td>\n",
       "      <td>2001-01-02</td>\n",
       "      <td>Fissures in Hurriyat over Pak visit</td>\n",
       "    </tr>\n",
       "    <tr>\n",
       "      <td>3</td>\n",
       "      <td>2001-01-02</td>\n",
       "      <td>America's unwanted heading for India?</td>\n",
       "    </tr>\n",
       "    <tr>\n",
       "      <td>4</td>\n",
       "      <td>2001-01-02</td>\n",
       "      <td>For bigwigs; it is destination Goa</td>\n",
       "    </tr>\n",
       "  </tbody>\n",
       "</table>\n",
       "</div>"
      ],
      "text/plain": [
       "  published_date                                           headline\n",
       "0     2001-01-01  win over cena satisfying but defeating underta...\n",
       "1     2001-01-02  Status quo will not be disturbed at Ayodhya; s...\n",
       "2     2001-01-02                Fissures in Hurriyat over Pak visit\n",
       "3     2001-01-02              America's unwanted heading for India?\n",
       "4     2001-01-02                 For bigwigs; it is destination Goa"
      ]
     },
     "execution_count": 15,
     "metadata": {},
     "output_type": "execute_result"
    }
   ],
   "source": [
    "ndf.head()"
   ]
  },
  {
   "cell_type": "markdown",
   "metadata": {},
   "source": [
    "#### Headlines having same dates"
   ]
  },
  {
   "cell_type": "code",
   "execution_count": 17,
   "metadata": {},
   "outputs": [],
   "source": [
    "dict_news = {}"
   ]
  },
  {
   "cell_type": "code",
   "execution_count": 18,
   "metadata": {},
   "outputs": [],
   "source": [
    "t1 = ndf.loc[0, 'published_date']\n",
    "t2 = str(ndf.loc[0, 'headline'])\n",
    "for x in range(1, len(ndf)):\n",
    "    if ndf.loc[x, 'published_date']==t1:\n",
    "        t2 += '. ' + str(ndf.loc[x, 'headline'])\n",
    "    else:\n",
    "        dict_news[ndf.loc[x-1, 'published_date']] = t2\n",
    "        t2 = \"\"\n",
    "        t1 = ndf.loc[x, 'published_date']"
   ]
  },
  {
   "cell_type": "code",
   "execution_count": 19,
   "metadata": {},
   "outputs": [
    {
     "data": {
      "text/plain": [
       "7079"
      ]
     },
     "execution_count": 19,
     "metadata": {},
     "output_type": "execute_result"
    }
   ],
   "source": [
    "len(dict_news)"
   ]
  },
  {
   "cell_type": "code",
   "execution_count": 20,
   "metadata": {},
   "outputs": [],
   "source": [
    "indexes = np.arange(0, len(dict_news))"
   ]
  },
  {
   "cell_type": "code",
   "execution_count": 21,
   "metadata": {},
   "outputs": [],
   "source": [
    "df_news = pd.DataFrame(indexes)\n",
    "df_news['Published_Date'] = dict_news.keys()\n"
   ]
  },
  {
   "cell_type": "code",
   "execution_count": 22,
   "metadata": {},
   "outputs": [
    {
     "data": {
      "text/html": [
       "<div>\n",
       "<style scoped>\n",
       "    .dataframe tbody tr th:only-of-type {\n",
       "        vertical-align: middle;\n",
       "    }\n",
       "\n",
       "    .dataframe tbody tr th {\n",
       "        vertical-align: top;\n",
       "    }\n",
       "\n",
       "    .dataframe thead th {\n",
       "        text-align: right;\n",
       "    }\n",
       "</style>\n",
       "<table border=\"1\" class=\"dataframe\">\n",
       "  <thead>\n",
       "    <tr style=\"text-align: right;\">\n",
       "      <th></th>\n",
       "      <th>0</th>\n",
       "      <th>Published_Date</th>\n",
       "    </tr>\n",
       "  </thead>\n",
       "  <tbody>\n",
       "    <tr>\n",
       "      <td>0</td>\n",
       "      <td>0</td>\n",
       "      <td>2001-01-01</td>\n",
       "    </tr>\n",
       "    <tr>\n",
       "      <td>1</td>\n",
       "      <td>1</td>\n",
       "      <td>2001-01-02</td>\n",
       "    </tr>\n",
       "    <tr>\n",
       "      <td>2</td>\n",
       "      <td>2</td>\n",
       "      <td>2001-01-03</td>\n",
       "    </tr>\n",
       "    <tr>\n",
       "      <td>3</td>\n",
       "      <td>3</td>\n",
       "      <td>2001-01-04</td>\n",
       "    </tr>\n",
       "    <tr>\n",
       "      <td>4</td>\n",
       "      <td>4</td>\n",
       "      <td>2001-01-05</td>\n",
       "    </tr>\n",
       "  </tbody>\n",
       "</table>\n",
       "</div>"
      ],
      "text/plain": [
       "   0 Published_Date\n",
       "0  0     2001-01-01\n",
       "1  1     2001-01-02\n",
       "2  2     2001-01-03\n",
       "3  3     2001-01-04\n",
       "4  4     2001-01-05"
      ]
     },
     "execution_count": 22,
     "metadata": {},
     "output_type": "execute_result"
    }
   ],
   "source": [
    "df_news.head()"
   ]
  },
  {
   "cell_type": "code",
   "execution_count": 23,
   "metadata": {},
   "outputs": [],
   "source": [
    "l = []\n",
    "for i in dict_news.keys():\n",
    "    l.append(dict_news[i])"
   ]
  },
  {
   "cell_type": "code",
   "execution_count": 24,
   "metadata": {
    "scrolled": true
   },
   "outputs": [
    {
     "data": {
      "text/plain": [
       "'win over cena satisfying but defeating undertaker bigger roman reigns'"
      ]
     },
     "execution_count": 24,
     "metadata": {},
     "output_type": "execute_result"
    }
   ],
   "source": [
    "l[0]"
   ]
  },
  {
   "cell_type": "code",
   "execution_count": 25,
   "metadata": {},
   "outputs": [],
   "source": [
    "df_news['Headline'] = np.array(l)"
   ]
  },
  {
   "cell_type": "code",
   "execution_count": 26,
   "metadata": {},
   "outputs": [
    {
     "data": {
      "text/html": [
       "<div>\n",
       "<style scoped>\n",
       "    .dataframe tbody tr th:only-of-type {\n",
       "        vertical-align: middle;\n",
       "    }\n",
       "\n",
       "    .dataframe tbody tr th {\n",
       "        vertical-align: top;\n",
       "    }\n",
       "\n",
       "    .dataframe thead th {\n",
       "        text-align: right;\n",
       "    }\n",
       "</style>\n",
       "<table border=\"1\" class=\"dataframe\">\n",
       "  <thead>\n",
       "    <tr style=\"text-align: right;\">\n",
       "      <th></th>\n",
       "      <th>0</th>\n",
       "      <th>Published_Date</th>\n",
       "      <th>Headline</th>\n",
       "    </tr>\n",
       "  </thead>\n",
       "  <tbody>\n",
       "    <tr>\n",
       "      <td>0</td>\n",
       "      <td>0</td>\n",
       "      <td>2001-01-01</td>\n",
       "      <td>win over cena satisfying but defeating underta...</td>\n",
       "    </tr>\n",
       "    <tr>\n",
       "      <td>1</td>\n",
       "      <td>1</td>\n",
       "      <td>2001-01-02</td>\n",
       "      <td>. Fissures in Hurriyat over Pak visit. America...</td>\n",
       "    </tr>\n",
       "    <tr>\n",
       "      <td>2</td>\n",
       "      <td>2</td>\n",
       "      <td>2001-01-03</td>\n",
       "      <td>. Think again; Laxman tells Sangh Parivar. Hur...</td>\n",
       "    </tr>\n",
       "    <tr>\n",
       "      <td>3</td>\n",
       "      <td>3</td>\n",
       "      <td>2001-01-04</td>\n",
       "      <td>. Vajpayee gives big push to tech education; R...</td>\n",
       "    </tr>\n",
       "    <tr>\n",
       "      <td>4</td>\n",
       "      <td>4</td>\n",
       "      <td>2001-01-05</td>\n",
       "      <td>. Hawkings' day out. Light combat craft takes ...</td>\n",
       "    </tr>\n",
       "  </tbody>\n",
       "</table>\n",
       "</div>"
      ],
      "text/plain": [
       "   0 Published_Date                                           Headline\n",
       "0  0     2001-01-01  win over cena satisfying but defeating underta...\n",
       "1  1     2001-01-02  . Fissures in Hurriyat over Pak visit. America...\n",
       "2  2     2001-01-03  . Think again; Laxman tells Sangh Parivar. Hur...\n",
       "3  3     2001-01-04  . Vajpayee gives big push to tech education; R...\n",
       "4  4     2001-01-05  . Hawkings' day out. Light combat craft takes ..."
      ]
     },
     "execution_count": 26,
     "metadata": {},
     "output_type": "execute_result"
    }
   ],
   "source": [
    "df_news.head()"
   ]
  },
  {
   "cell_type": "code",
   "execution_count": 27,
   "metadata": {},
   "outputs": [],
   "source": [
    "del df_news[0]"
   ]
  },
  {
   "cell_type": "code",
   "execution_count": 28,
   "metadata": {},
   "outputs": [
    {
     "data": {
      "text/html": [
       "<div>\n",
       "<style scoped>\n",
       "    .dataframe tbody tr th:only-of-type {\n",
       "        vertical-align: middle;\n",
       "    }\n",
       "\n",
       "    .dataframe tbody tr th {\n",
       "        vertical-align: top;\n",
       "    }\n",
       "\n",
       "    .dataframe thead th {\n",
       "        text-align: right;\n",
       "    }\n",
       "</style>\n",
       "<table border=\"1\" class=\"dataframe\">\n",
       "  <thead>\n",
       "    <tr style=\"text-align: right;\">\n",
       "      <th></th>\n",
       "      <th>Published_Date</th>\n",
       "      <th>Headline</th>\n",
       "    </tr>\n",
       "  </thead>\n",
       "  <tbody>\n",
       "    <tr>\n",
       "      <td>0</td>\n",
       "      <td>2001-01-01</td>\n",
       "      <td>win over cena satisfying but defeating underta...</td>\n",
       "    </tr>\n",
       "    <tr>\n",
       "      <td>1</td>\n",
       "      <td>2001-01-02</td>\n",
       "      <td>. Fissures in Hurriyat over Pak visit. America...</td>\n",
       "    </tr>\n",
       "    <tr>\n",
       "      <td>2</td>\n",
       "      <td>2001-01-03</td>\n",
       "      <td>. Think again; Laxman tells Sangh Parivar. Hur...</td>\n",
       "    </tr>\n",
       "    <tr>\n",
       "      <td>3</td>\n",
       "      <td>2001-01-04</td>\n",
       "      <td>. Vajpayee gives big push to tech education; R...</td>\n",
       "    </tr>\n",
       "    <tr>\n",
       "      <td>4</td>\n",
       "      <td>2001-01-05</td>\n",
       "      <td>. Hawkings' day out. Light combat craft takes ...</td>\n",
       "    </tr>\n",
       "  </tbody>\n",
       "</table>\n",
       "</div>"
      ],
      "text/plain": [
       "  Published_Date                                           Headline\n",
       "0     2001-01-01  win over cena satisfying but defeating underta...\n",
       "1     2001-01-02  . Fissures in Hurriyat over Pak visit. America...\n",
       "2     2001-01-03  . Think again; Laxman tells Sangh Parivar. Hur...\n",
       "3     2001-01-04  . Vajpayee gives big push to tech education; R...\n",
       "4     2001-01-05  . Hawkings' day out. Light combat craft takes ..."
      ]
     },
     "execution_count": 28,
     "metadata": {},
     "output_type": "execute_result"
    }
   ],
   "source": [
    "df_news.head()"
   ]
  },
  {
   "cell_type": "markdown",
   "metadata": {},
   "source": [
    "# Sentiment Analysis"
   ]
  },
  {
   "cell_type": "code",
   "execution_count": 29,
   "metadata": {},
   "outputs": [],
   "source": [
    "from textblob import TextBlob\n",
    "polarity = []\n",
    "subjectivity = []\n",
    "tuples = []\n",
    "for i in df_news['Headline'].values:\n",
    "    my_valence = TextBlob(i)\n",
    "    tuples.append(my_valence.sentiment)"
   ]
  },
  {
   "cell_type": "code",
   "execution_count": 30,
   "metadata": {},
   "outputs": [],
   "source": [
    "for i in tuples:\n",
    "    polarity.append(i[0])\n",
    "    subjectivity.append(i[1])"
   ]
  },
  {
   "cell_type": "code",
   "execution_count": 31,
   "metadata": {},
   "outputs": [],
   "source": [
    "df_news['Polarity'] = np.array(polarity)\n",
    "df_news['Subjectivity'] = np.array(subjectivity)"
   ]
  },
  {
   "cell_type": "code",
   "execution_count": 32,
   "metadata": {
    "scrolled": true
   },
   "outputs": [
    {
     "data": {
      "text/html": [
       "<div>\n",
       "<style scoped>\n",
       "    .dataframe tbody tr th:only-of-type {\n",
       "        vertical-align: middle;\n",
       "    }\n",
       "\n",
       "    .dataframe tbody tr th {\n",
       "        vertical-align: top;\n",
       "    }\n",
       "\n",
       "    .dataframe thead th {\n",
       "        text-align: right;\n",
       "    }\n",
       "</style>\n",
       "<table border=\"1\" class=\"dataframe\">\n",
       "  <thead>\n",
       "    <tr style=\"text-align: right;\">\n",
       "      <th></th>\n",
       "      <th>Published_Date</th>\n",
       "      <th>Headline</th>\n",
       "      <th>Polarity</th>\n",
       "      <th>Subjectivity</th>\n",
       "    </tr>\n",
       "  </thead>\n",
       "  <tbody>\n",
       "    <tr>\n",
       "      <td>0</td>\n",
       "      <td>2001-01-01</td>\n",
       "      <td>win over cena satisfying but defeating underta...</td>\n",
       "      <td>0.433333</td>\n",
       "      <td>0.633333</td>\n",
       "    </tr>\n",
       "    <tr>\n",
       "      <td>1</td>\n",
       "      <td>2001-01-02</td>\n",
       "      <td>. Fissures in Hurriyat over Pak visit. America...</td>\n",
       "      <td>0.151333</td>\n",
       "      <td>0.282333</td>\n",
       "    </tr>\n",
       "    <tr>\n",
       "      <td>2</td>\n",
       "      <td>2001-01-03</td>\n",
       "      <td>. Think again; Laxman tells Sangh Parivar. Hur...</td>\n",
       "      <td>0.163636</td>\n",
       "      <td>0.363636</td>\n",
       "    </tr>\n",
       "    <tr>\n",
       "      <td>3</td>\n",
       "      <td>2001-01-04</td>\n",
       "      <td>. Vajpayee gives big push to tech education; R...</td>\n",
       "      <td>0.087961</td>\n",
       "      <td>0.446847</td>\n",
       "    </tr>\n",
       "    <tr>\n",
       "      <td>4</td>\n",
       "      <td>2001-01-05</td>\n",
       "      <td>. Hawkings' day out. Light combat craft takes ...</td>\n",
       "      <td>0.260401</td>\n",
       "      <td>0.473984</td>\n",
       "    </tr>\n",
       "  </tbody>\n",
       "</table>\n",
       "</div>"
      ],
      "text/plain": [
       "  Published_Date                                           Headline  Polarity  \\\n",
       "0     2001-01-01  win over cena satisfying but defeating underta...  0.433333   \n",
       "1     2001-01-02  . Fissures in Hurriyat over Pak visit. America...  0.151333   \n",
       "2     2001-01-03  . Think again; Laxman tells Sangh Parivar. Hur...  0.163636   \n",
       "3     2001-01-04  . Vajpayee gives big push to tech education; R...  0.087961   \n",
       "4     2001-01-05  . Hawkings' day out. Light combat craft takes ...  0.260401   \n",
       "\n",
       "   Subjectivity  \n",
       "0      0.633333  \n",
       "1      0.282333  \n",
       "2      0.363636  \n",
       "3      0.446847  \n",
       "4      0.473984  "
      ]
     },
     "execution_count": 32,
     "metadata": {},
     "output_type": "execute_result"
    }
   ],
   "source": [
    "df_news.head()"
   ]
  },
  {
   "cell_type": "code",
   "execution_count": 36,
   "metadata": {},
   "outputs": [],
   "source": [
    "temp = ['Positive', 'Negative', 'Neutral']\n",
    "temp1 = ['Factual', 'Public']\n",
    "polarity = []\n",
    "subjectivity = []\n",
    "for i in range(len(df_news)):\n",
    "    pol = df_news.iloc[i]['Polarity']\n",
    "    sub = df_news.iloc[i]['Subjectivity']\n",
    "    if pol>=0:\n",
    "        if pol>=0.2:\n",
    "            polarity.append(temp[0])\n",
    "        else:\n",
    "            polarity.append(temp[2])\n",
    "    else:\n",
    "        if pol<=-0.2:\n",
    "            polarity.append(temp[1])\n",
    "        else:\n",
    "            polarity.append(temp[2])\n",
    "    \n",
    "    if sub>=0.4:\n",
    "        subjectivity.append(temp1[1])\n",
    "    else:\n",
    "        subjectivity.append(temp1[0])"
   ]
  },
  {
   "cell_type": "code",
   "execution_count": 37,
   "metadata": {},
   "outputs": [],
   "source": [
    "df_news['Sentiment'] = polarity\n",
    "df_news['Opinion'] = subjectivity"
   ]
  },
  {
   "cell_type": "code",
   "execution_count": 38,
   "metadata": {
    "scrolled": false
   },
   "outputs": [
    {
     "data": {
      "text/html": [
       "<div>\n",
       "<style scoped>\n",
       "    .dataframe tbody tr th:only-of-type {\n",
       "        vertical-align: middle;\n",
       "    }\n",
       "\n",
       "    .dataframe tbody tr th {\n",
       "        vertical-align: top;\n",
       "    }\n",
       "\n",
       "    .dataframe thead th {\n",
       "        text-align: right;\n",
       "    }\n",
       "</style>\n",
       "<table border=\"1\" class=\"dataframe\">\n",
       "  <thead>\n",
       "    <tr style=\"text-align: right;\">\n",
       "      <th></th>\n",
       "      <th>Published_Date</th>\n",
       "      <th>Headline</th>\n",
       "      <th>Polarity</th>\n",
       "      <th>Subjectivity</th>\n",
       "      <th>Sentiment</th>\n",
       "      <th>Opinion</th>\n",
       "    </tr>\n",
       "  </thead>\n",
       "  <tbody>\n",
       "    <tr>\n",
       "      <td>0</td>\n",
       "      <td>2001-01-01</td>\n",
       "      <td>win over cena satisfying but defeating underta...</td>\n",
       "      <td>0.433333</td>\n",
       "      <td>0.633333</td>\n",
       "      <td>Positive</td>\n",
       "      <td>Public</td>\n",
       "    </tr>\n",
       "    <tr>\n",
       "      <td>1</td>\n",
       "      <td>2001-01-02</td>\n",
       "      <td>. Fissures in Hurriyat over Pak visit. America...</td>\n",
       "      <td>0.151333</td>\n",
       "      <td>0.282333</td>\n",
       "      <td>Neutral</td>\n",
       "      <td>Factual</td>\n",
       "    </tr>\n",
       "    <tr>\n",
       "      <td>2</td>\n",
       "      <td>2001-01-03</td>\n",
       "      <td>. Think again; Laxman tells Sangh Parivar. Hur...</td>\n",
       "      <td>0.163636</td>\n",
       "      <td>0.363636</td>\n",
       "      <td>Neutral</td>\n",
       "      <td>Factual</td>\n",
       "    </tr>\n",
       "    <tr>\n",
       "      <td>3</td>\n",
       "      <td>2001-01-04</td>\n",
       "      <td>. Vajpayee gives big push to tech education; R...</td>\n",
       "      <td>0.087961</td>\n",
       "      <td>0.446847</td>\n",
       "      <td>Neutral</td>\n",
       "      <td>Public</td>\n",
       "    </tr>\n",
       "    <tr>\n",
       "      <td>4</td>\n",
       "      <td>2001-01-05</td>\n",
       "      <td>. Hawkings' day out. Light combat craft takes ...</td>\n",
       "      <td>0.260401</td>\n",
       "      <td>0.473984</td>\n",
       "      <td>Positive</td>\n",
       "      <td>Public</td>\n",
       "    </tr>\n",
       "  </tbody>\n",
       "</table>\n",
       "</div>"
      ],
      "text/plain": [
       "  Published_Date                                           Headline  Polarity  \\\n",
       "0     2001-01-01  win over cena satisfying but defeating underta...  0.433333   \n",
       "1     2001-01-02  . Fissures in Hurriyat over Pak visit. America...  0.151333   \n",
       "2     2001-01-03  . Think again; Laxman tells Sangh Parivar. Hur...  0.163636   \n",
       "3     2001-01-04  . Vajpayee gives big push to tech education; R...  0.087961   \n",
       "4     2001-01-05  . Hawkings' day out. Light combat craft takes ...  0.260401   \n",
       "\n",
       "   Subjectivity Sentiment  Opinion  \n",
       "0      0.633333  Positive   Public  \n",
       "1      0.282333   Neutral  Factual  \n",
       "2      0.363636   Neutral  Factual  \n",
       "3      0.446847   Neutral   Public  \n",
       "4      0.473984  Positive   Public  "
      ]
     },
     "execution_count": 38,
     "metadata": {},
     "output_type": "execute_result"
    }
   ],
   "source": [
    "df_news.head()"
   ]
  },
  {
   "cell_type": "code",
   "execution_count": 90,
   "metadata": {},
   "outputs": [
    {
     "data": {
      "text/html": [
       "<div>\n",
       "<style scoped>\n",
       "    .dataframe tbody tr th:only-of-type {\n",
       "        vertical-align: middle;\n",
       "    }\n",
       "\n",
       "    .dataframe tbody tr th {\n",
       "        vertical-align: top;\n",
       "    }\n",
       "\n",
       "    .dataframe thead th {\n",
       "        text-align: right;\n",
       "    }\n",
       "</style>\n",
       "<table border=\"1\" class=\"dataframe\">\n",
       "  <thead>\n",
       "    <tr style=\"text-align: right;\">\n",
       "      <th></th>\n",
       "      <th>Date</th>\n",
       "      <th>Headline</th>\n",
       "      <th>Polarity</th>\n",
       "      <th>Subjectivity</th>\n",
       "      <th>Sentiment</th>\n",
       "      <th>Opinion</th>\n",
       "    </tr>\n",
       "  </thead>\n",
       "  <tbody>\n",
       "    <tr>\n",
       "      <td>7074</td>\n",
       "      <td>2020-06-25</td>\n",
       "      <td>. Telangana: Senior Congress leader tests+ve f...</td>\n",
       "      <td>0.026626</td>\n",
       "      <td>0.403808</td>\n",
       "      <td>Neutral</td>\n",
       "      <td>Public</td>\n",
       "    </tr>\n",
       "    <tr>\n",
       "      <td>7075</td>\n",
       "      <td>2020-06-26</td>\n",
       "      <td>. up hammers out 60k proposals of rs 870cr ahe...</td>\n",
       "      <td>0.067991</td>\n",
       "      <td>0.381251</td>\n",
       "      <td>Neutral</td>\n",
       "      <td>Factual</td>\n",
       "    </tr>\n",
       "    <tr>\n",
       "      <td>7076</td>\n",
       "      <td>2020-06-27</td>\n",
       "      <td>. Major Ravi to helm movie on Indo-Chinese con...</td>\n",
       "      <td>0.079290</td>\n",
       "      <td>0.398808</td>\n",
       "      <td>Neutral</td>\n",
       "      <td>Factual</td>\n",
       "    </tr>\n",
       "    <tr>\n",
       "      <td>7077</td>\n",
       "      <td>2020-06-28</td>\n",
       "      <td>. Sports without spectators: 'Who will cheer f...</td>\n",
       "      <td>0.056252</td>\n",
       "      <td>0.401576</td>\n",
       "      <td>Neutral</td>\n",
       "      <td>Public</td>\n",
       "    </tr>\n",
       "    <tr>\n",
       "      <td>7078</td>\n",
       "      <td>2020-06-29</td>\n",
       "      <td>. Anna Eden gets creative with husband and MP ...</td>\n",
       "      <td>0.059637</td>\n",
       "      <td>0.392916</td>\n",
       "      <td>Neutral</td>\n",
       "      <td>Factual</td>\n",
       "    </tr>\n",
       "  </tbody>\n",
       "</table>\n",
       "</div>"
      ],
      "text/plain": [
       "           Date                                           Headline  Polarity  \\\n",
       "7074 2020-06-25  . Telangana: Senior Congress leader tests+ve f...  0.026626   \n",
       "7075 2020-06-26  . up hammers out 60k proposals of rs 870cr ahe...  0.067991   \n",
       "7076 2020-06-27  . Major Ravi to helm movie on Indo-Chinese con...  0.079290   \n",
       "7077 2020-06-28  . Sports without spectators: 'Who will cheer f...  0.056252   \n",
       "7078 2020-06-29  . Anna Eden gets creative with husband and MP ...  0.059637   \n",
       "\n",
       "      Subjectivity Sentiment  Opinion  \n",
       "7074      0.403808   Neutral   Public  \n",
       "7075      0.381251   Neutral  Factual  \n",
       "7076      0.398808   Neutral  Factual  \n",
       "7077      0.401576   Neutral   Public  \n",
       "7078      0.392916   Neutral  Factual  "
      ]
     },
     "execution_count": 90,
     "metadata": {},
     "output_type": "execute_result"
    }
   ],
   "source": [
    "df_news.tail()"
   ]
  },
  {
   "cell_type": "code",
   "execution_count": 39,
   "metadata": {},
   "outputs": [
    {
     "name": "stdout",
     "output_type": "stream",
     "text": [
      "<class 'pandas.core.frame.DataFrame'>\n",
      "RangeIndex: 7079 entries, 0 to 7078\n",
      "Data columns (total 6 columns):\n",
      "Published_Date    7079 non-null datetime64[ns]\n",
      "Headline          7079 non-null object\n",
      "Polarity          7079 non-null float64\n",
      "Subjectivity      7079 non-null float64\n",
      "Sentiment         7079 non-null object\n",
      "Opinion           7079 non-null object\n",
      "dtypes: datetime64[ns](1), float64(2), object(3)\n",
      "memory usage: 332.0+ KB\n"
     ]
    }
   ],
   "source": [
    "df_news.info()"
   ]
  },
  {
   "cell_type": "markdown",
   "metadata": {},
   "source": [
    "# Visualization of Distributed Sentiments"
   ]
  },
  {
   "cell_type": "code",
   "execution_count": 40,
   "metadata": {},
   "outputs": [
    {
     "data": {
      "image/png": "[encoded data removed]",
      "text/plain": [
       "<Figure size 432x288 with 1 Axes>"
      ]
     },
     "metadata": {
      "needs_background": "light"
     },
     "output_type": "display_data"
    }
   ],
   "source": [
    "#Histogram Subjectivity\n",
    "plt.figure(figsize=(6,4))\n",
    "df_news['Subjectivity'].hist()\n",
    "plt.show()"
   ]
  },
  {
   "cell_type": "code",
   "execution_count": 41,
   "metadata": {},
   "outputs": [
    {
     "data": {
      "image/png": "[encoded data removed]",
      "text/plain": [
       "<Figure size 432x288 with 1 Axes>"
      ]
     },
     "metadata": {
      "needs_background": "light"
     },
     "output_type": "display_data"
    }
   ],
   "source": [
    "#histogram Polarity\n",
    "plt.figure(figsize=(6,4))\n",
    "df_news['Polarity'].hist()\n",
    "plt.show()"
   ]
  },
  {
   "cell_type": "code",
   "execution_count": 42,
   "metadata": {},
   "outputs": [
    {
     "data": {
      "text/plain": [
       "<matplotlib.axes._subplots.AxesSubplot at 0x1c928efba88>"
      ]
     },
     "execution_count": 42,
     "metadata": {},
     "output_type": "execute_result"
    },
    {
     "data": {
      "image/png": "[encoded data removed]",
      "text/plain": [
       "<Figure size 432x288 with 1 Axes>"
      ]
     },
     "metadata": {
      "needs_background": "light"
     },
     "output_type": "display_data"
    }
   ],
   "source": [
    "#countplot\n",
    "sns.countplot(df_news['Opinion'])"
   ]
  },
  {
   "cell_type": "markdown",
   "metadata": {},
   "source": [
    "# Loading Historical Stock Price Data"
   ]
  },
  {
   "cell_type": "code",
   "execution_count": 43,
   "metadata": {},
   "outputs": [],
   "source": [
    "sdf = pd.read_csv('BSESN.csv')"
   ]
  },
  {
   "cell_type": "code",
   "execution_count": 44,
   "metadata": {},
   "outputs": [
    {
     "data": {
      "text/html": [
       "<div>\n",
       "<style scoped>\n",
       "    .dataframe tbody tr th:only-of-type {\n",
       "        vertical-align: middle;\n",
       "    }\n",
       "\n",
       "    .dataframe tbody tr th {\n",
       "        vertical-align: top;\n",
       "    }\n",
       "\n",
       "    .dataframe thead th {\n",
       "        text-align: right;\n",
       "    }\n",
       "</style>\n",
       "<table border=\"1\" class=\"dataframe\">\n",
       "  <thead>\n",
       "    <tr style=\"text-align: right;\">\n",
       "      <th></th>\n",
       "      <th>Date</th>\n",
       "      <th>Open</th>\n",
       "      <th>High</th>\n",
       "      <th>Low</th>\n",
       "      <th>Close</th>\n",
       "      <th>Adj Close</th>\n",
       "      <th>Volume</th>\n",
       "    </tr>\n",
       "  </thead>\n",
       "  <tbody>\n",
       "    <tr>\n",
       "      <td>0</td>\n",
       "      <td>2019-10-22</td>\n",
       "      <td>39233.398438</td>\n",
       "      <td>39426.468750</td>\n",
       "      <td>38924.851563</td>\n",
       "      <td>38963.839844</td>\n",
       "      <td>38963.839844</td>\n",
       "      <td>54500.0</td>\n",
       "    </tr>\n",
       "    <tr>\n",
       "      <td>1</td>\n",
       "      <td>2019-10-23</td>\n",
       "      <td>39063.839844</td>\n",
       "      <td>39196.671875</td>\n",
       "      <td>38866.078125</td>\n",
       "      <td>39058.828125</td>\n",
       "      <td>39058.828125</td>\n",
       "      <td>41000.0</td>\n",
       "    </tr>\n",
       "    <tr>\n",
       "      <td>2</td>\n",
       "      <td>2019-10-24</td>\n",
       "      <td>39223.011719</td>\n",
       "      <td>39327.148438</td>\n",
       "      <td>38840.761719</td>\n",
       "      <td>39020.390625</td>\n",
       "      <td>39020.390625</td>\n",
       "      <td>36600.0</td>\n",
       "    </tr>\n",
       "    <tr>\n",
       "      <td>3</td>\n",
       "      <td>2019-10-25</td>\n",
       "      <td>39201.671875</td>\n",
       "      <td>39241.609375</td>\n",
       "      <td>38718.269531</td>\n",
       "      <td>39058.058594</td>\n",
       "      <td>39058.058594</td>\n",
       "      <td>48600.0</td>\n",
       "    </tr>\n",
       "    <tr>\n",
       "      <td>4</td>\n",
       "      <td>2019-10-27</td>\n",
       "      <td>NaN</td>\n",
       "      <td>NaN</td>\n",
       "      <td>NaN</td>\n",
       "      <td>NaN</td>\n",
       "      <td>NaN</td>\n",
       "      <td>NaN</td>\n",
       "    </tr>\n",
       "  </tbody>\n",
       "</table>\n",
       "</div>"
      ],
      "text/plain": [
       "         Date          Open          High           Low         Close  \\\n",
       "0  2019-10-22  39233.398438  39426.468750  38924.851563  38963.839844   \n",
       "1  2019-10-23  39063.839844  39196.671875  38866.078125  39058.828125   \n",
       "2  2019-10-24  39223.011719  39327.148438  38840.761719  39020.390625   \n",
       "3  2019-10-25  39201.671875  39241.609375  38718.269531  39058.058594   \n",
       "4  2019-10-27           NaN           NaN           NaN           NaN   \n",
       "\n",
       "      Adj Close   Volume  \n",
       "0  38963.839844  54500.0  \n",
       "1  39058.828125  41000.0  \n",
       "2  39020.390625  36600.0  \n",
       "3  39058.058594  48600.0  \n",
       "4           NaN      NaN  "
      ]
     },
     "execution_count": 44,
     "metadata": {},
     "output_type": "execute_result"
    }
   ],
   "source": [
    "sdf.head()"
   ]
  },
  {
   "cell_type": "code",
   "execution_count": 45,
   "metadata": {},
   "outputs": [
    {
     "data": {
      "text/plain": [
       "(250, 7)"
      ]
     },
     "execution_count": 45,
     "metadata": {},
     "output_type": "execute_result"
    }
   ],
   "source": [
    "sdf.shape"
   ]
  },
  {
   "cell_type": "code",
   "execution_count": 46,
   "metadata": {},
   "outputs": [
    {
     "name": "stdout",
     "output_type": "stream",
     "text": [
      "<class 'pandas.core.frame.DataFrame'>\n",
      "RangeIndex: 250 entries, 0 to 249\n",
      "Data columns (total 7 columns):\n",
      "Date         250 non-null object\n",
      "Open         248 non-null float64\n",
      "High         248 non-null float64\n",
      "Low          248 non-null float64\n",
      "Close        248 non-null float64\n",
      "Adj Close    248 non-null float64\n",
      "Volume       248 non-null float64\n",
      "dtypes: float64(6), object(1)\n",
      "memory usage: 13.8+ KB\n"
     ]
    }
   ],
   "source": [
    "sdf.info()"
   ]
  },
  {
   "cell_type": "code",
   "execution_count": 47,
   "metadata": {},
   "outputs": [
    {
     "data": {
      "text/html": [
       "<div>\n",
       "<style scoped>\n",
       "    .dataframe tbody tr th:only-of-type {\n",
       "        vertical-align: middle;\n",
       "    }\n",
       "\n",
       "    .dataframe tbody tr th {\n",
       "        vertical-align: top;\n",
       "    }\n",
       "\n",
       "    .dataframe thead th {\n",
       "        text-align: right;\n",
       "    }\n",
       "</style>\n",
       "<table border=\"1\" class=\"dataframe\">\n",
       "  <thead>\n",
       "    <tr style=\"text-align: right;\">\n",
       "      <th></th>\n",
       "      <th>Open</th>\n",
       "      <th>High</th>\n",
       "      <th>Low</th>\n",
       "      <th>Close</th>\n",
       "      <th>Adj Close</th>\n",
       "      <th>Volume</th>\n",
       "    </tr>\n",
       "  </thead>\n",
       "  <tbody>\n",
       "    <tr>\n",
       "      <td>count</td>\n",
       "      <td>248.000000</td>\n",
       "      <td>248.000000</td>\n",
       "      <td>248.000000</td>\n",
       "      <td>248.000000</td>\n",
       "      <td>248.000000</td>\n",
       "      <td>248.000000</td>\n",
       "    </tr>\n",
       "    <tr>\n",
       "      <td>mean</td>\n",
       "      <td>37322.398091</td>\n",
       "      <td>37574.623582</td>\n",
       "      <td>36950.800616</td>\n",
       "      <td>37247.012562</td>\n",
       "      <td>37247.012562</td>\n",
       "      <td>22031.048387</td>\n",
       "    </tr>\n",
       "    <tr>\n",
       "      <td>std</td>\n",
       "      <td>3962.046890</td>\n",
       "      <td>3811.250200</td>\n",
       "      <td>4118.735824</td>\n",
       "      <td>3967.546574</td>\n",
       "      <td>3967.546574</td>\n",
       "      <td>18530.809330</td>\n",
       "    </tr>\n",
       "    <tr>\n",
       "      <td>min</td>\n",
       "      <td>26499.810547</td>\n",
       "      <td>27462.869141</td>\n",
       "      <td>25638.900391</td>\n",
       "      <td>25981.240234</td>\n",
       "      <td>25981.240234</td>\n",
       "      <td>0.000000</td>\n",
       "    </tr>\n",
       "    <tr>\n",
       "      <td>25%</td>\n",
       "      <td>34305.207031</td>\n",
       "      <td>34699.283203</td>\n",
       "      <td>33955.879883</td>\n",
       "      <td>34237.300781</td>\n",
       "      <td>34237.300781</td>\n",
       "      <td>13600.000000</td>\n",
       "    </tr>\n",
       "    <tr>\n",
       "      <td>50%</td>\n",
       "      <td>38476.410157</td>\n",
       "      <td>38742.685547</td>\n",
       "      <td>38217.509765</td>\n",
       "      <td>38413.355469</td>\n",
       "      <td>38413.355469</td>\n",
       "      <td>18400.000000</td>\n",
       "    </tr>\n",
       "    <tr>\n",
       "      <td>75%</td>\n",
       "      <td>40610.306641</td>\n",
       "      <td>40794.209961</td>\n",
       "      <td>40336.801758</td>\n",
       "      <td>40584.655274</td>\n",
       "      <td>40584.655274</td>\n",
       "      <td>24800.000000</td>\n",
       "    </tr>\n",
       "    <tr>\n",
       "      <td>max</td>\n",
       "      <td>42263.000000</td>\n",
       "      <td>42273.871094</td>\n",
       "      <td>41850.289063</td>\n",
       "      <td>41952.628906</td>\n",
       "      <td>41952.628906</td>\n",
       "      <td>188300.000000</td>\n",
       "    </tr>\n",
       "  </tbody>\n",
       "</table>\n",
       "</div>"
      ],
      "text/plain": [
       "               Open          High           Low         Close     Adj Close  \\\n",
       "count    248.000000    248.000000    248.000000    248.000000    248.000000   \n",
       "mean   37322.398091  37574.623582  36950.800616  37247.012562  37247.012562   \n",
       "std     3962.046890   3811.250200   4118.735824   3967.546574   3967.546574   \n",
       "min    26499.810547  27462.869141  25638.900391  25981.240234  25981.240234   \n",
       "25%    34305.207031  34699.283203  33955.879883  34237.300781  34237.300781   \n",
       "50%    38476.410157  38742.685547  38217.509765  38413.355469  38413.355469   \n",
       "75%    40610.306641  40794.209961  40336.801758  40584.655274  40584.655274   \n",
       "max    42263.000000  42273.871094  41850.289063  41952.628906  41952.628906   \n",
       "\n",
       "              Volume  \n",
       "count     248.000000  \n",
       "mean    22031.048387  \n",
       "std     18530.809330  \n",
       "min         0.000000  \n",
       "25%     13600.000000  \n",
       "50%     18400.000000  \n",
       "75%     24800.000000  \n",
       "max    188300.000000  "
      ]
     },
     "execution_count": 47,
     "metadata": {},
     "output_type": "execute_result"
    }
   ],
   "source": [
    "sdf.describe()"
   ]
  },
  {
   "cell_type": "code",
   "execution_count": 48,
   "metadata": {},
   "outputs": [],
   "source": [
    "sdf['hl_pct']=((sdf['High']-sdf['Low'])/sdf['Low'])*100\n",
    "sdf['pct_change']=((sdf['Close']-sdf['Open'])/sdf['Open'])*100"
   ]
  },
  {
   "cell_type": "code",
   "execution_count": 49,
   "metadata": {},
   "outputs": [],
   "source": [
    "sdf = sdf.drop(['Open','High','Close','Low'], axis=1)"
   ]
  },
  {
   "cell_type": "code",
   "execution_count": 50,
   "metadata": {
    "scrolled": true
   },
   "outputs": [
    {
     "data": {
      "text/html": [
       "<div>\n",
       "<style scoped>\n",
       "    .dataframe tbody tr th:only-of-type {\n",
       "        vertical-align: middle;\n",
       "    }\n",
       "\n",
       "    .dataframe tbody tr th {\n",
       "        vertical-align: top;\n",
       "    }\n",
       "\n",
       "    .dataframe thead th {\n",
       "        text-align: right;\n",
       "    }\n",
       "</style>\n",
       "<table border=\"1\" class=\"dataframe\">\n",
       "  <thead>\n",
       "    <tr style=\"text-align: right;\">\n",
       "      <th></th>\n",
       "      <th>Date</th>\n",
       "      <th>Adj Close</th>\n",
       "      <th>Volume</th>\n",
       "      <th>hl_pct</th>\n",
       "      <th>pct_change</th>\n",
       "    </tr>\n",
       "  </thead>\n",
       "  <tbody>\n",
       "    <tr>\n",
       "      <td>0</td>\n",
       "      <td>2019-10-22</td>\n",
       "      <td>38963.839844</td>\n",
       "      <td>54500.0</td>\n",
       "      <td>1.288681</td>\n",
       "      <td>-0.687064</td>\n",
       "    </tr>\n",
       "    <tr>\n",
       "      <td>1</td>\n",
       "      <td>2019-10-23</td>\n",
       "      <td>39058.828125</td>\n",
       "      <td>41000.0</td>\n",
       "      <td>0.850597</td>\n",
       "      <td>-0.012830</td>\n",
       "    </tr>\n",
       "    <tr>\n",
       "      <td>2</td>\n",
       "      <td>2019-10-24</td>\n",
       "      <td>39020.390625</td>\n",
       "      <td>36600.0</td>\n",
       "      <td>1.252258</td>\n",
       "      <td>-0.516587</td>\n",
       "    </tr>\n",
       "    <tr>\n",
       "      <td>3</td>\n",
       "      <td>2019-10-25</td>\n",
       "      <td>39058.058594</td>\n",
       "      <td>48600.0</td>\n",
       "      <td>1.351661</td>\n",
       "      <td>-0.366345</td>\n",
       "    </tr>\n",
       "    <tr>\n",
       "      <td>4</td>\n",
       "      <td>2019-10-27</td>\n",
       "      <td>NaN</td>\n",
       "      <td>NaN</td>\n",
       "      <td>NaN</td>\n",
       "      <td>NaN</td>\n",
       "    </tr>\n",
       "  </tbody>\n",
       "</table>\n",
       "</div>"
      ],
      "text/plain": [
       "         Date     Adj Close   Volume    hl_pct  pct_change\n",
       "0  2019-10-22  38963.839844  54500.0  1.288681   -0.687064\n",
       "1  2019-10-23  39058.828125  41000.0  0.850597   -0.012830\n",
       "2  2019-10-24  39020.390625  36600.0  1.252258   -0.516587\n",
       "3  2019-10-25  39058.058594  48600.0  1.351661   -0.366345\n",
       "4  2019-10-27           NaN      NaN       NaN         NaN"
      ]
     },
     "execution_count": 50,
     "metadata": {},
     "output_type": "execute_result"
    }
   ],
   "source": [
    "sdf.head()"
   ]
  },
  {
   "cell_type": "code",
   "execution_count": 51,
   "metadata": {},
   "outputs": [],
   "source": [
    "sdf['Date'] = pd.to_datetime(sdf['Date'])"
   ]
  },
  {
   "cell_type": "code",
   "execution_count": 52,
   "metadata": {
    "scrolled": true
   },
   "outputs": [
    {
     "data": {
      "text/html": [
       "<div>\n",
       "<style scoped>\n",
       "    .dataframe tbody tr th:only-of-type {\n",
       "        vertical-align: middle;\n",
       "    }\n",
       "\n",
       "    .dataframe tbody tr th {\n",
       "        vertical-align: top;\n",
       "    }\n",
       "\n",
       "    .dataframe thead th {\n",
       "        text-align: right;\n",
       "    }\n",
       "</style>\n",
       "<table border=\"1\" class=\"dataframe\">\n",
       "  <thead>\n",
       "    <tr style=\"text-align: right;\">\n",
       "      <th></th>\n",
       "      <th>Date</th>\n",
       "      <th>Adj Close</th>\n",
       "      <th>Volume</th>\n",
       "      <th>hl_pct</th>\n",
       "      <th>pct_change</th>\n",
       "    </tr>\n",
       "  </thead>\n",
       "  <tbody>\n",
       "    <tr>\n",
       "      <td>0</td>\n",
       "      <td>2019-10-22</td>\n",
       "      <td>38963.839844</td>\n",
       "      <td>54500.0</td>\n",
       "      <td>1.288681</td>\n",
       "      <td>-0.687064</td>\n",
       "    </tr>\n",
       "    <tr>\n",
       "      <td>1</td>\n",
       "      <td>2019-10-23</td>\n",
       "      <td>39058.828125</td>\n",
       "      <td>41000.0</td>\n",
       "      <td>0.850597</td>\n",
       "      <td>-0.012830</td>\n",
       "    </tr>\n",
       "    <tr>\n",
       "      <td>2</td>\n",
       "      <td>2019-10-24</td>\n",
       "      <td>39020.390625</td>\n",
       "      <td>36600.0</td>\n",
       "      <td>1.252258</td>\n",
       "      <td>-0.516587</td>\n",
       "    </tr>\n",
       "    <tr>\n",
       "      <td>3</td>\n",
       "      <td>2019-10-25</td>\n",
       "      <td>39058.058594</td>\n",
       "      <td>48600.0</td>\n",
       "      <td>1.351661</td>\n",
       "      <td>-0.366345</td>\n",
       "    </tr>\n",
       "    <tr>\n",
       "      <td>4</td>\n",
       "      <td>2019-10-27</td>\n",
       "      <td>NaN</td>\n",
       "      <td>NaN</td>\n",
       "      <td>NaN</td>\n",
       "      <td>NaN</td>\n",
       "    </tr>\n",
       "  </tbody>\n",
       "</table>\n",
       "</div>"
      ],
      "text/plain": [
       "        Date     Adj Close   Volume    hl_pct  pct_change\n",
       "0 2019-10-22  38963.839844  54500.0  1.288681   -0.687064\n",
       "1 2019-10-23  39058.828125  41000.0  0.850597   -0.012830\n",
       "2 2019-10-24  39020.390625  36600.0  1.252258   -0.516587\n",
       "3 2019-10-25  39058.058594  48600.0  1.351661   -0.366345\n",
       "4 2019-10-27           NaN      NaN       NaN         NaN"
      ]
     },
     "execution_count": 52,
     "metadata": {},
     "output_type": "execute_result"
    }
   ],
   "source": [
    "sdf.head()"
   ]
  },
  {
   "cell_type": "code",
   "execution_count": 55,
   "metadata": {},
   "outputs": [
    {
     "name": "stdout",
     "output_type": "stream",
     "text": [
      "<class 'pandas.core.frame.DataFrame'>\n",
      "Int64Index: 248 entries, 0 to 249\n",
      "Data columns (total 5 columns):\n",
      "Date          248 non-null datetime64[ns]\n",
      "Adj Close     248 non-null float64\n",
      "Volume        248 non-null float64\n",
      "hl_pct        248 non-null float64\n",
      "pct_change    248 non-null float64\n",
      "dtypes: datetime64[ns](1), float64(4)\n",
      "memory usage: 11.6 KB\n"
     ]
    }
   ],
   "source": [
    "sdf = sdf.dropna()\n",
    "sdf.info()"
   ]
  },
  {
   "cell_type": "code",
   "execution_count": 56,
   "metadata": {},
   "outputs": [],
   "source": [
    "df_news.columns = ['Date', 'Headline', 'Polarity', 'Subjectivity', 'Sentiment', 'Opinion']"
   ]
  },
  {
   "cell_type": "markdown",
   "metadata": {},
   "source": [
    "# Merging the News and Stocks Datasets on the basis of Dates"
   ]
  },
  {
   "cell_type": "code",
   "execution_count": 58,
   "metadata": {},
   "outputs": [],
   "source": [
    "mdf = df_news.merge(sdf, how='inner', on='Date', left_index = True)"
   ]
  },
  {
   "cell_type": "code",
   "execution_count": 59,
   "metadata": {},
   "outputs": [
    {
     "data": {
      "text/html": [
       "<div>\n",
       "<style scoped>\n",
       "    .dataframe tbody tr th:only-of-type {\n",
       "        vertical-align: middle;\n",
       "    }\n",
       "\n",
       "    .dataframe tbody tr th {\n",
       "        vertical-align: top;\n",
       "    }\n",
       "\n",
       "    .dataframe thead th {\n",
       "        text-align: right;\n",
       "    }\n",
       "</style>\n",
       "<table border=\"1\" class=\"dataframe\">\n",
       "  <thead>\n",
       "    <tr style=\"text-align: right;\">\n",
       "      <th></th>\n",
       "      <th>Date</th>\n",
       "      <th>Headline</th>\n",
       "      <th>Polarity</th>\n",
       "      <th>Subjectivity</th>\n",
       "      <th>Sentiment</th>\n",
       "      <th>Opinion</th>\n",
       "      <th>Adj Close</th>\n",
       "      <th>Volume</th>\n",
       "      <th>hl_pct</th>\n",
       "      <th>pct_change</th>\n",
       "    </tr>\n",
       "  </thead>\n",
       "  <tbody>\n",
       "    <tr>\n",
       "      <td>0</td>\n",
       "      <td>2019-10-22</td>\n",
       "      <td>. When I compose a song; I don't think whether...</td>\n",
       "      <td>0.044899</td>\n",
       "      <td>0.403248</td>\n",
       "      <td>Neutral</td>\n",
       "      <td>Public</td>\n",
       "      <td>38963.839844</td>\n",
       "      <td>54500.0</td>\n",
       "      <td>1.288681</td>\n",
       "      <td>-0.687064</td>\n",
       "    </tr>\n",
       "    <tr>\n",
       "      <td>1</td>\n",
       "      <td>2019-10-23</td>\n",
       "      <td>. Need fitness motivation? You have to attend ...</td>\n",
       "      <td>0.053053</td>\n",
       "      <td>0.400712</td>\n",
       "      <td>Neutral</td>\n",
       "      <td>Public</td>\n",
       "      <td>39058.828125</td>\n",
       "      <td>41000.0</td>\n",
       "      <td>0.850597</td>\n",
       "      <td>-0.012830</td>\n",
       "    </tr>\n",
       "    <tr>\n",
       "      <td>2</td>\n",
       "      <td>2019-10-24</td>\n",
       "      <td>. Now; recognition by Punjab government must f...</td>\n",
       "      <td>0.078351</td>\n",
       "      <td>0.437144</td>\n",
       "      <td>Neutral</td>\n",
       "      <td>Public</td>\n",
       "      <td>39020.390625</td>\n",
       "      <td>36600.0</td>\n",
       "      <td>1.252258</td>\n",
       "      <td>-0.516587</td>\n",
       "    </tr>\n",
       "    <tr>\n",
       "      <td>3</td>\n",
       "      <td>2019-10-25</td>\n",
       "      <td>. Dhanteras 2019: Date; time; puja vidhi; shub...</td>\n",
       "      <td>0.068307</td>\n",
       "      <td>0.387471</td>\n",
       "      <td>Neutral</td>\n",
       "      <td>Factual</td>\n",
       "      <td>39058.058594</td>\n",
       "      <td>48600.0</td>\n",
       "      <td>1.351661</td>\n",
       "      <td>-0.366345</td>\n",
       "    </tr>\n",
       "    <tr>\n",
       "      <td>5</td>\n",
       "      <td>2019-10-29</td>\n",
       "      <td>. Happy Bhai Dooj 2019: Images; Wishes; Messag...</td>\n",
       "      <td>0.056007</td>\n",
       "      <td>0.446804</td>\n",
       "      <td>Neutral</td>\n",
       "      <td>Public</td>\n",
       "      <td>39831.839844</td>\n",
       "      <td>50500.0</td>\n",
       "      <td>1.688716</td>\n",
       "      <td>1.370078</td>\n",
       "    </tr>\n",
       "  </tbody>\n",
       "</table>\n",
       "</div>"
      ],
      "text/plain": [
       "        Date                                           Headline  Polarity  \\\n",
       "0 2019-10-22  . When I compose a song; I don't think whether...  0.044899   \n",
       "1 2019-10-23  . Need fitness motivation? You have to attend ...  0.053053   \n",
       "2 2019-10-24  . Now; recognition by Punjab government must f...  0.078351   \n",
       "3 2019-10-25  . Dhanteras 2019: Date; time; puja vidhi; shub...  0.068307   \n",
       "5 2019-10-29  . Happy Bhai Dooj 2019: Images; Wishes; Messag...  0.056007   \n",
       "\n",
       "   Subjectivity Sentiment  Opinion     Adj Close   Volume    hl_pct  \\\n",
       "0      0.403248   Neutral   Public  38963.839844  54500.0  1.288681   \n",
       "1      0.400712   Neutral   Public  39058.828125  41000.0  0.850597   \n",
       "2      0.437144   Neutral   Public  39020.390625  36600.0  1.252258   \n",
       "3      0.387471   Neutral  Factual  39058.058594  48600.0  1.351661   \n",
       "5      0.446804   Neutral   Public  39831.839844  50500.0  1.688716   \n",
       "\n",
       "   pct_change  \n",
       "0   -0.687064  \n",
       "1   -0.012830  \n",
       "2   -0.516587  \n",
       "3   -0.366345  \n",
       "5    1.370078  "
      ]
     },
     "execution_count": 59,
     "metadata": {},
     "output_type": "execute_result"
    }
   ],
   "source": [
    "mdf.head()"
   ]
  },
  {
   "cell_type": "code",
   "execution_count": 60,
   "metadata": {},
   "outputs": [
    {
     "name": "stdout",
     "output_type": "stream",
     "text": [
      "<class 'pandas.core.frame.DataFrame'>\n",
      "Int64Index: 168 entries, 0 to 169\n",
      "Data columns (total 10 columns):\n",
      "Date            168 non-null datetime64[ns]\n",
      "Headline        168 non-null object\n",
      "Polarity        168 non-null float64\n",
      "Subjectivity    168 non-null float64\n",
      "Sentiment       168 non-null object\n",
      "Opinion         168 non-null object\n",
      "Adj Close       168 non-null float64\n",
      "Volume          168 non-null float64\n",
      "hl_pct          168 non-null float64\n",
      "pct_change      168 non-null float64\n",
      "dtypes: datetime64[ns](1), float64(6), object(3)\n",
      "memory usage: 14.4+ KB\n"
     ]
    }
   ],
   "source": [
    "mdf.info()"
   ]
  },
  {
   "cell_type": "markdown",
   "metadata": {},
   "source": [
    "### Required Column "
   ]
  },
  {
   "cell_type": "code",
   "execution_count": 61,
   "metadata": {},
   "outputs": [
    {
     "data": {
      "text/html": [
       "<div>\n",
       "<style scoped>\n",
       "    .dataframe tbody tr th:only-of-type {\n",
       "        vertical-align: middle;\n",
       "    }\n",
       "\n",
       "    .dataframe tbody tr th {\n",
       "        vertical-align: top;\n",
       "    }\n",
       "\n",
       "    .dataframe thead th {\n",
       "        text-align: right;\n",
       "    }\n",
       "</style>\n",
       "<table border=\"1\" class=\"dataframe\">\n",
       "  <thead>\n",
       "    <tr style=\"text-align: right;\">\n",
       "      <th></th>\n",
       "      <th>Date</th>\n",
       "      <th>Polarity</th>\n",
       "      <th>Subjectivity</th>\n",
       "      <th>Adj Close</th>\n",
       "      <th>hl_pct</th>\n",
       "      <th>pct_change</th>\n",
       "    </tr>\n",
       "  </thead>\n",
       "  <tbody>\n",
       "    <tr>\n",
       "      <td>0</td>\n",
       "      <td>2019-10-22</td>\n",
       "      <td>0.044899</td>\n",
       "      <td>0.403248</td>\n",
       "      <td>38963.839844</td>\n",
       "      <td>1.288681</td>\n",
       "      <td>-0.687064</td>\n",
       "    </tr>\n",
       "    <tr>\n",
       "      <td>1</td>\n",
       "      <td>2019-10-23</td>\n",
       "      <td>0.053053</td>\n",
       "      <td>0.400712</td>\n",
       "      <td>39058.828125</td>\n",
       "      <td>0.850597</td>\n",
       "      <td>-0.012830</td>\n",
       "    </tr>\n",
       "    <tr>\n",
       "      <td>2</td>\n",
       "      <td>2019-10-24</td>\n",
       "      <td>0.078351</td>\n",
       "      <td>0.437144</td>\n",
       "      <td>39020.390625</td>\n",
       "      <td>1.252258</td>\n",
       "      <td>-0.516587</td>\n",
       "    </tr>\n",
       "    <tr>\n",
       "      <td>3</td>\n",
       "      <td>2019-10-25</td>\n",
       "      <td>0.068307</td>\n",
       "      <td>0.387471</td>\n",
       "      <td>39058.058594</td>\n",
       "      <td>1.351661</td>\n",
       "      <td>-0.366345</td>\n",
       "    </tr>\n",
       "    <tr>\n",
       "      <td>5</td>\n",
       "      <td>2019-10-29</td>\n",
       "      <td>0.056007</td>\n",
       "      <td>0.446804</td>\n",
       "      <td>39831.839844</td>\n",
       "      <td>1.688716</td>\n",
       "      <td>1.370078</td>\n",
       "    </tr>\n",
       "  </tbody>\n",
       "</table>\n",
       "</div>"
      ],
      "text/plain": [
       "        Date  Polarity  Subjectivity     Adj Close    hl_pct  pct_change\n",
       "0 2019-10-22  0.044899      0.403248  38963.839844  1.288681   -0.687064\n",
       "1 2019-10-23  0.053053      0.400712  39058.828125  0.850597   -0.012830\n",
       "2 2019-10-24  0.078351      0.437144  39020.390625  1.252258   -0.516587\n",
       "3 2019-10-25  0.068307      0.387471  39058.058594  1.351661   -0.366345\n",
       "5 2019-10-29  0.056007      0.446804  39831.839844  1.688716    1.370078"
      ]
     },
     "execution_count": 61,
     "metadata": {},
     "output_type": "execute_result"
    }
   ],
   "source": [
    "req_df = mdf[['Date', 'Polarity', 'Subjectivity','Adj Close','hl_pct','pct_change']]\n",
    "req_df.head()"
   ]
  },
  {
   "cell_type": "code",
   "execution_count": 62,
   "metadata": {},
   "outputs": [],
   "source": [
    "req_df = req_df.set_index('Date')"
   ]
  },
  {
   "cell_type": "code",
   "execution_count": 63,
   "metadata": {
    "scrolled": true
   },
   "outputs": [
    {
     "data": {
      "text/html": [
       "<div>\n",
       "<style scoped>\n",
       "    .dataframe tbody tr th:only-of-type {\n",
       "        vertical-align: middle;\n",
       "    }\n",
       "\n",
       "    .dataframe tbody tr th {\n",
       "        vertical-align: top;\n",
       "    }\n",
       "\n",
       "    .dataframe thead th {\n",
       "        text-align: right;\n",
       "    }\n",
       "</style>\n",
       "<table border=\"1\" class=\"dataframe\">\n",
       "  <thead>\n",
       "    <tr style=\"text-align: right;\">\n",
       "      <th></th>\n",
       "      <th>Polarity</th>\n",
       "      <th>Subjectivity</th>\n",
       "      <th>Adj Close</th>\n",
       "      <th>hl_pct</th>\n",
       "      <th>pct_change</th>\n",
       "    </tr>\n",
       "    <tr>\n",
       "      <th>Date</th>\n",
       "      <th></th>\n",
       "      <th></th>\n",
       "      <th></th>\n",
       "      <th></th>\n",
       "      <th></th>\n",
       "    </tr>\n",
       "  </thead>\n",
       "  <tbody>\n",
       "    <tr>\n",
       "      <td>2019-10-22</td>\n",
       "      <td>0.044899</td>\n",
       "      <td>0.403248</td>\n",
       "      <td>38963.839844</td>\n",
       "      <td>1.288681</td>\n",
       "      <td>-0.687064</td>\n",
       "    </tr>\n",
       "    <tr>\n",
       "      <td>2019-10-23</td>\n",
       "      <td>0.053053</td>\n",
       "      <td>0.400712</td>\n",
       "      <td>39058.828125</td>\n",
       "      <td>0.850597</td>\n",
       "      <td>-0.012830</td>\n",
       "    </tr>\n",
       "    <tr>\n",
       "      <td>2019-10-24</td>\n",
       "      <td>0.078351</td>\n",
       "      <td>0.437144</td>\n",
       "      <td>39020.390625</td>\n",
       "      <td>1.252258</td>\n",
       "      <td>-0.516587</td>\n",
       "    </tr>\n",
       "    <tr>\n",
       "      <td>2019-10-25</td>\n",
       "      <td>0.068307</td>\n",
       "      <td>0.387471</td>\n",
       "      <td>39058.058594</td>\n",
       "      <td>1.351661</td>\n",
       "      <td>-0.366345</td>\n",
       "    </tr>\n",
       "    <tr>\n",
       "      <td>2019-10-29</td>\n",
       "      <td>0.056007</td>\n",
       "      <td>0.446804</td>\n",
       "      <td>39831.839844</td>\n",
       "      <td>1.688716</td>\n",
       "      <td>1.370078</td>\n",
       "    </tr>\n",
       "  </tbody>\n",
       "</table>\n",
       "</div>"
      ],
      "text/plain": [
       "            Polarity  Subjectivity     Adj Close    hl_pct  pct_change\n",
       "Date                                                                  \n",
       "2019-10-22  0.044899      0.403248  38963.839844  1.288681   -0.687064\n",
       "2019-10-23  0.053053      0.400712  39058.828125  0.850597   -0.012830\n",
       "2019-10-24  0.078351      0.437144  39020.390625  1.252258   -0.516587\n",
       "2019-10-25  0.068307      0.387471  39058.058594  1.351661   -0.366345\n",
       "2019-10-29  0.056007      0.446804  39831.839844  1.688716    1.370078"
      ]
     },
     "execution_count": 63,
     "metadata": {},
     "output_type": "execute_result"
    }
   ],
   "source": [
    "req_df.head()"
   ]
  },
  {
   "cell_type": "markdown",
   "metadata": {},
   "source": [
    "# Feature Scaling using MinMaxScaler"
   ]
  },
  {
   "cell_type": "code",
   "execution_count": 64,
   "metadata": {},
   "outputs": [],
   "source": [
    "from sklearn.preprocessing import MinMaxScaler"
   ]
  },
  {
   "cell_type": "code",
   "execution_count": 65,
   "metadata": {},
   "outputs": [
    {
     "data": {
      "text/html": [
       "<div>\n",
       "<style scoped>\n",
       "    .dataframe tbody tr th:only-of-type {\n",
       "        vertical-align: middle;\n",
       "    }\n",
       "\n",
       "    .dataframe tbody tr th {\n",
       "        vertical-align: top;\n",
       "    }\n",
       "\n",
       "    .dataframe thead th {\n",
       "        text-align: right;\n",
       "    }\n",
       "</style>\n",
       "<table border=\"1\" class=\"dataframe\">\n",
       "  <thead>\n",
       "    <tr style=\"text-align: right;\">\n",
       "      <th></th>\n",
       "      <th>Polarity</th>\n",
       "      <th>Subjectivity</th>\n",
       "      <th>Adj Close</th>\n",
       "      <th>hl_pct</th>\n",
       "      <th>pct_change</th>\n",
       "    </tr>\n",
       "    <tr>\n",
       "      <th>Date</th>\n",
       "      <th></th>\n",
       "      <th></th>\n",
       "      <th></th>\n",
       "      <th></th>\n",
       "      <th></th>\n",
       "    </tr>\n",
       "  </thead>\n",
       "  <tbody>\n",
       "    <tr>\n",
       "      <td>2019-10-22</td>\n",
       "      <td>0.364508</td>\n",
       "      <td>0.504190</td>\n",
       "      <td>0.812866</td>\n",
       "      <td>0.049142</td>\n",
       "      <td>0.379896</td>\n",
       "    </tr>\n",
       "    <tr>\n",
       "      <td>2019-10-23</td>\n",
       "      <td>0.438457</td>\n",
       "      <td>0.483084</td>\n",
       "      <td>0.818813</td>\n",
       "      <td>0.024667</td>\n",
       "      <td>0.421943</td>\n",
       "    </tr>\n",
       "    <tr>\n",
       "      <td>2019-10-24</td>\n",
       "      <td>0.667876</td>\n",
       "      <td>0.786341</td>\n",
       "      <td>0.816407</td>\n",
       "      <td>0.047107</td>\n",
       "      <td>0.390527</td>\n",
       "    </tr>\n",
       "    <tr>\n",
       "      <td>2019-10-25</td>\n",
       "      <td>0.576786</td>\n",
       "      <td>0.372858</td>\n",
       "      <td>0.818765</td>\n",
       "      <td>0.052661</td>\n",
       "      <td>0.399897</td>\n",
       "    </tr>\n",
       "    <tr>\n",
       "      <td>2019-10-29</td>\n",
       "      <td>0.465240</td>\n",
       "      <td>0.866756</td>\n",
       "      <td>0.867213</td>\n",
       "      <td>0.071492</td>\n",
       "      <td>0.508184</td>\n",
       "    </tr>\n",
       "  </tbody>\n",
       "</table>\n",
       "</div>"
      ],
      "text/plain": [
       "            Polarity  Subjectivity  Adj Close    hl_pct  pct_change\n",
       "Date                                                               \n",
       "2019-10-22  0.364508      0.504190   0.812866  0.049142    0.379896\n",
       "2019-10-23  0.438457      0.483084   0.818813  0.024667    0.421943\n",
       "2019-10-24  0.667876      0.786341   0.816407  0.047107    0.390527\n",
       "2019-10-25  0.576786      0.372858   0.818765  0.052661    0.399897\n",
       "2019-10-29  0.465240      0.866756   0.867213  0.071492    0.508184"
      ]
     },
     "execution_count": 65,
     "metadata": {},
     "output_type": "execute_result"
    }
   ],
   "source": [
    "scaler = MinMaxScaler()\n",
    "df1 = pd.DataFrame(scaler.fit_transform(req_df))\n",
    "df1.columns = req_df.columns\n",
    "df1.index=req_df.index\n",
    "df1.head()"
   ]
  },
  {
   "cell_type": "code",
   "execution_count": 66,
   "metadata": {},
   "outputs": [],
   "source": [
    "train = df1[: int(0.7*(len(df1)))]  #70 percent\n",
    "test = df1[int(0.7*(len(df1))):]    #30 percent"
   ]
  },
  {
   "cell_type": "code",
   "execution_count": 67,
   "metadata": {},
   "outputs": [],
   "source": [
    "from statsmodels.tsa.vector_ar.var_model import VAR\n",
    "model = VAR(endog = train)\n",
    "fitted = model.fit()"
   ]
  },
  {
   "cell_type": "markdown",
   "metadata": {},
   "source": [
    " Predicted vs Test"
   ]
  },
  {
   "cell_type": "code",
   "execution_count": 68,
   "metadata": {},
   "outputs": [],
   "source": [
    "pred = fitted.forecast(fitted.y, steps=len(test))\n",
    "predicted = pd.DataFrame(pred, columns=df1.columns)"
   ]
  },
  {
   "cell_type": "code",
   "execution_count": 69,
   "metadata": {},
   "outputs": [
    {
     "data": {
      "text/html": [
       "<div>\n",
       "<style scoped>\n",
       "    .dataframe tbody tr th:only-of-type {\n",
       "        vertical-align: middle;\n",
       "    }\n",
       "\n",
       "    .dataframe tbody tr th {\n",
       "        vertical-align: top;\n",
       "    }\n",
       "\n",
       "    .dataframe thead th {\n",
       "        text-align: right;\n",
       "    }\n",
       "</style>\n",
       "<table border=\"1\" class=\"dataframe\">\n",
       "  <thead>\n",
       "    <tr style=\"text-align: right;\">\n",
       "      <th></th>\n",
       "      <th>Polarity</th>\n",
       "      <th>Subjectivity</th>\n",
       "      <th>Adj Close</th>\n",
       "      <th>hl_pct</th>\n",
       "      <th>pct_change</th>\n",
       "    </tr>\n",
       "  </thead>\n",
       "  <tbody>\n",
       "    <tr>\n",
       "      <td>0</td>\n",
       "      <td>0.499007</td>\n",
       "      <td>0.480748</td>\n",
       "      <td>0.290782</td>\n",
       "      <td>0.296335</td>\n",
       "      <td>0.437565</td>\n",
       "    </tr>\n",
       "    <tr>\n",
       "      <td>1</td>\n",
       "      <td>0.507802</td>\n",
       "      <td>0.466866</td>\n",
       "      <td>0.284221</td>\n",
       "      <td>0.287530</td>\n",
       "      <td>0.399396</td>\n",
       "    </tr>\n",
       "    <tr>\n",
       "      <td>2</td>\n",
       "      <td>0.505545</td>\n",
       "      <td>0.466046</td>\n",
       "      <td>0.281260</td>\n",
       "      <td>0.292980</td>\n",
       "      <td>0.405135</td>\n",
       "    </tr>\n",
       "    <tr>\n",
       "      <td>3</td>\n",
       "      <td>0.505589</td>\n",
       "      <td>0.464537</td>\n",
       "      <td>0.277475</td>\n",
       "      <td>0.294767</td>\n",
       "      <td>0.404182</td>\n",
       "    </tr>\n",
       "    <tr>\n",
       "      <td>4</td>\n",
       "      <td>0.505874</td>\n",
       "      <td>0.464300</td>\n",
       "      <td>0.273716</td>\n",
       "      <td>0.296578</td>\n",
       "      <td>0.404266</td>\n",
       "    </tr>\n",
       "  </tbody>\n",
       "</table>\n",
       "</div>"
      ],
      "text/plain": [
       "   Polarity  Subjectivity  Adj Close    hl_pct  pct_change\n",
       "0  0.499007      0.480748   0.290782  0.296335    0.437565\n",
       "1  0.507802      0.466866   0.284221  0.287530    0.399396\n",
       "2  0.505545      0.466046   0.281260  0.292980    0.405135\n",
       "3  0.505589      0.464537   0.277475  0.294767    0.404182\n",
       "4  0.505874      0.464300   0.273716  0.296578    0.404266"
      ]
     },
     "execution_count": 69,
     "metadata": {},
     "output_type": "execute_result"
    }
   ],
   "source": [
    "predicted.head()"
   ]
  },
  {
   "cell_type": "code",
   "execution_count": 70,
   "metadata": {
    "scrolled": false
   },
   "outputs": [
    {
     "data": {
      "text/html": [
       "<div>\n",
       "<style scoped>\n",
       "    .dataframe tbody tr th:only-of-type {\n",
       "        vertical-align: middle;\n",
       "    }\n",
       "\n",
       "    .dataframe tbody tr th {\n",
       "        vertical-align: top;\n",
       "    }\n",
       "\n",
       "    .dataframe thead th {\n",
       "        text-align: right;\n",
       "    }\n",
       "</style>\n",
       "<table border=\"1\" class=\"dataframe\">\n",
       "  <thead>\n",
       "    <tr style=\"text-align: right;\">\n",
       "      <th></th>\n",
       "      <th>Polarity</th>\n",
       "      <th>Subjectivity</th>\n",
       "      <th>Adj Close</th>\n",
       "      <th>hl_pct</th>\n",
       "      <th>pct_change</th>\n",
       "    </tr>\n",
       "    <tr>\n",
       "      <th>Date</th>\n",
       "      <th></th>\n",
       "      <th></th>\n",
       "      <th></th>\n",
       "      <th></th>\n",
       "      <th></th>\n",
       "    </tr>\n",
       "  </thead>\n",
       "  <tbody>\n",
       "    <tr>\n",
       "      <td>2020-04-16</td>\n",
       "      <td>0.738124</td>\n",
       "      <td>0.600080</td>\n",
       "      <td>0.289353</td>\n",
       "      <td>0.123077</td>\n",
       "      <td>0.527821</td>\n",
       "    </tr>\n",
       "    <tr>\n",
       "      <td>2020-04-17</td>\n",
       "      <td>0.507853</td>\n",
       "      <td>0.520604</td>\n",
       "      <td>0.351095</td>\n",
       "      <td>0.113889</td>\n",
       "      <td>0.409355</td>\n",
       "    </tr>\n",
       "    <tr>\n",
       "      <td>2020-04-20</td>\n",
       "      <td>0.670920</td>\n",
       "      <td>0.512154</td>\n",
       "      <td>0.354807</td>\n",
       "      <td>0.077601</td>\n",
       "      <td>0.343334</td>\n",
       "    </tr>\n",
       "    <tr>\n",
       "      <td>2020-04-21</td>\n",
       "      <td>0.659395</td>\n",
       "      <td>0.371802</td>\n",
       "      <td>0.291488</td>\n",
       "      <td>0.073121</td>\n",
       "      <td>0.382401</td>\n",
       "    </tr>\n",
       "    <tr>\n",
       "      <td>2020-04-22</td>\n",
       "      <td>0.625664</td>\n",
       "      <td>0.588219</td>\n",
       "      <td>0.337999</td>\n",
       "      <td>0.140228</td>\n",
       "      <td>0.528527</td>\n",
       "    </tr>\n",
       "  </tbody>\n",
       "</table>\n",
       "</div>"
      ],
      "text/plain": [
       "            Polarity  Subjectivity  Adj Close    hl_pct  pct_change\n",
       "Date                                                               \n",
       "2020-04-16  0.738124      0.600080   0.289353  0.123077    0.527821\n",
       "2020-04-17  0.507853      0.520604   0.351095  0.113889    0.409355\n",
       "2020-04-20  0.670920      0.512154   0.354807  0.077601    0.343334\n",
       "2020-04-21  0.659395      0.371802   0.291488  0.073121    0.382401\n",
       "2020-04-22  0.625664      0.588219   0.337999  0.140228    0.528527"
      ]
     },
     "execution_count": 70,
     "metadata": {},
     "output_type": "execute_result"
    }
   ],
   "source": [
    "test.head()"
   ]
  },
  {
   "cell_type": "markdown",
   "metadata": {},
   "source": [
    "Checking the accuracy"
   ]
  },
  {
   "cell_type": "code",
   "execution_count": 71,
   "metadata": {
    "scrolled": true
   },
   "outputs": [
    {
     "data": {
      "text/plain": [
       "0.2615183658492245"
      ]
     },
     "execution_count": 71,
     "metadata": {},
     "output_type": "execute_result"
    }
   ],
   "source": [
    "from sklearn.metrics import mean_squared_error\n",
    "np.sqrt(mean_squared_error(predicted['Adj Close'], test['Adj Close']))"
   ]
  },
  {
   "cell_type": "code",
   "execution_count": null,
   "metadata": {
    "scrolled": true
   },
   "outputs": [],
   "source": []
  },
  {
   "cell_type": "code",
   "execution_count": null,
   "metadata": {},
   "outputs": [],
   "source": []
  },
  {
   "cell_type": "code",
   "execution_count": null,
   "metadata": {},
   "outputs": [],
   "source": []
  },
  {
   "cell_type": "code",
   "execution_count": null,
   "metadata": {},
   "outputs": [],
   "source": []
  },
  {
   "cell_type": "code",
   "execution_count": null,
   "metadata": {},
   "outputs": [],
   "source": []
  }
 ],
 "metadata": {
  "kernelspec": {
   "display_name": "Python 3",
   "language": "python",
   "name": "python3"
  },
  "language_info": {
   "codemirror_mode": {
    "name": "ipython",
    "version": 3
   },
   "file_extension": ".py",
   "mimetype": "text/x-python",
   "name": "python",
   "nbconvert_exporter": "python",
   "pygments_lexer": "ipython3",
   "version": "3.7.4"
  }
 },
 "nbformat": 4,
 "nbformat_minor": 4
}
